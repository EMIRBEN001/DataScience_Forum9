{
 "cells": [
  {
   "cell_type": "code",
   "execution_count": 3,
   "metadata": {},
   "outputs": [],
   "source": [
    "from sklearn.model_selection import train_test_split\n",
    "from sklearn.metrics import davies_bouldin_score\n",
    "from sklearn.metrics import silhouette_score\n",
    "from sklearn.metrics import adjusted_rand_score\n",
    "from sklearn.metrics import calinski_harabasz_score\n",
    "import pandas as pd\n",
    "import numpy as np"
   ]
  },
  {
   "cell_type": "code",
   "execution_count": 4,
   "metadata": {},
   "outputs": [
    {
     "name": "stdout",
     "output_type": "stream",
     "text": [
      "        age       sex       bmi        bp        s1        s2        s3  \\\n",
      "0  0.038076  0.050680  0.061696  0.021872 -0.044223 -0.034821 -0.043401   \n",
      "1 -0.001882 -0.044642 -0.051474 -0.026328 -0.008449 -0.019163  0.074412   \n",
      "2  0.085299  0.050680  0.044451 -0.005670 -0.045599 -0.034194 -0.032356   \n",
      "3 -0.089063 -0.044642 -0.011595 -0.036656  0.012191  0.024991 -0.036038   \n",
      "4  0.005383 -0.044642 -0.036385  0.021872  0.003935  0.015596  0.008142   \n",
      "\n",
      "         s4        s5        s6  target  \n",
      "0 -0.002592  0.019907 -0.017646   151.0  \n",
      "1 -0.039493 -0.068332 -0.092204    75.0  \n",
      "2 -0.002592  0.002861 -0.025930   141.0  \n",
      "3  0.034309  0.022688 -0.009362   206.0  \n",
      "4 -0.002592 -0.031988 -0.046641   135.0  \n"
     ]
    }
   ],
   "source": [
    "from sklearn.datasets import load_diabetes\n",
    "\n",
    "# Load the Diabetes dataset\n",
    "diabetes = load_diabetes()\n",
    "\n",
    "# Create a DataFrame\n",
    "diabetes_df = pd.DataFrame(data=diabetes.data, columns=diabetes.feature_names)\n",
    "\n",
    "# Add the target variable (class) to the DataFrame\n",
    "diabetes_df['target'] = diabetes.target\n",
    "\n",
    "# True labels\n",
    "true_labels = diabetes.target\n",
    "\n",
    "# Display the DataFrame\n",
    "print(diabetes_df.head())"
   ]
  },
  {
   "cell_type": "code",
   "execution_count": 5,
   "metadata": {},
   "outputs": [
    {
     "name": "stdout",
     "output_type": "stream",
     "text": [
      "KMean\n",
      "Silhouette Score: 0.6030231408737028\n",
      "Davies-Bouldin Index: 0.4927745558025032\n",
      "Rand Score: 0.014300943432801118\n",
      "Calinski and Harabasz Score: 1719.5587209653474\n"
     ]
    }
   ],
   "source": [
    "# Using KMean and Silhoutte score\n",
    "from sklearn.cluster import KMeans\n",
    "\n",
    "# Kmean\n",
    "kmeans = KMeans(n_clusters = 3, random_state = 20, n_init = \"auto\").fit(diabetes_df)\n",
    "\n",
    "# Getting labels\n",
    "kmeans_labels = kmeans.labels_\n",
    "\n",
    "# Calculating silhouette score\n",
    "silhouette_avg1 = silhouette_score(diabetes_df, kmeans_labels)\n",
    "\n",
    "# Calculating DBI\n",
    "dbi_score1 = davies_bouldin_score(diabetes_df, kmeans_labels)\n",
    "\n",
    "# Calcualting rand score\n",
    "rand_score1 = adjusted_rand_score(true_labels, kmeans_labels)\n",
    "\n",
    "# Calculating calinksi and harabasz score\n",
    "ch_score1 = calinski_harabasz_score(diabetes_df, kmeans_labels)\n",
    "\n",
    "print(\"KMean\")\n",
    "print(\"Silhouette Score:\", silhouette_avg1)\n",
    "print(\"Davies-Bouldin Index:\", dbi_score1)\n",
    "print(\"Rand Score:\", rand_score1)\n",
    "print(\"Calinski and Harabasz Score:\", ch_score1)"
   ]
  },
  {
   "cell_type": "code",
   "execution_count": 9,
   "metadata": {},
   "outputs": [
    {
     "name": "stdout",
     "output_type": "stream",
     "text": [
      "Mean shift\n",
      "Silhouette Score: 0.5846141063011262\n",
      "Davies-Bouldin Index: 0.5054796457754716\n",
      "Rand Score: 0.01458502610779577\n",
      "Calinski and Harabasz Score: 1607.3872409066034\n"
     ]
    }
   ],
   "source": [
    "# Using MeanShift and Davies bouldin index\n",
    "from sklearn.cluster import MeanShift\n",
    "\n",
    "# Mean shift\n",
    "mean_shift = MeanShift().fit(diabetes_df)\n",
    "\n",
    "# Getting labels\n",
    "mean_shift_labels = mean_shift.labels_\n",
    "\n",
    "# Calculating silhouette score\n",
    "silhouette_avg2 = silhouette_score(diabetes_df, mean_shift_labels)\n",
    "\n",
    "# Calculating DBI\n",
    "dbi_score2 = davies_bouldin_score(diabetes_df, mean_shift_labels)\n",
    "\n",
    "# Calcualting rand score\n",
    "rand_score2 = adjusted_rand_score(true_labels, mean_shift_labels)\n",
    "\n",
    "# Calculating calinksi and harabasz score\n",
    "ch_score2 = calinski_harabasz_score(diabetes_df, mean_shift_labels)\n",
    "\n",
    "print(\"Mean shift\")\n",
    "print(\"Silhouette Score:\", silhouette_avg2)\n",
    "print(\"Davies-Bouldin Index:\", dbi_score2)\n",
    "print(\"Rand Score:\", rand_score2)\n",
    "print(\"Calinski and Harabasz Score:\", ch_score2)"
   ]
  },
  {
   "cell_type": "code",
   "execution_count": 7,
   "metadata": {},
   "outputs": [
    {
     "name": "stdout",
     "output_type": "stream",
     "text": [
      "Agglomerative clustering\n",
      "Silhouette Score: 0.5439283189634871\n",
      "Davies-Bouldin Index: 0.4787328114192006\n",
      "Rand Score: 0.009953764601743948\n",
      "Calinski and Harabasz Score: 1173.9037953940565\n"
     ]
    }
   ],
   "source": [
    "# Using agglomerative clustering and rand score\n",
    "from sklearn.cluster import AgglomerativeClustering\n",
    "\n",
    "# Agglomerative clustering\n",
    "agglomerative_clustering = AgglomerativeClustering(n_clusters = 3).fit(diabetes_df)\n",
    "\n",
    "# Getting clustered labels\n",
    "agglomerative_labels = agglomerative_clustering.labels_\n",
    "\n",
    "# Calculating silhouette score\n",
    "silhouette_avg3 = silhouette_score(diabetes_df, agglomerative_labels)\n",
    "\n",
    "# Calculating DBI\n",
    "dbi_score3 = davies_bouldin_score(diabetes_df, agglomerative_labels)\n",
    "\n",
    "# Calcualting rand score\n",
    "rand_score3 = adjusted_rand_score(true_labels, agglomerative_labels)\n",
    "\n",
    "# Calculating calinksi and harabasz score\n",
    "ch_score3 = calinski_harabasz_score(diabetes_df, agglomerative_labels)\n",
    "\n",
    "print(\"Agglomerative clustering\")\n",
    "print(\"Silhouette Score:\", silhouette_avg3)\n",
    "print(\"Davies-Bouldin Index:\", dbi_score3)\n",
    "print(\"Rand Score:\", rand_score3)\n",
    "print(\"Calinski and Harabasz Score:\", ch_score3)"
   ]
  },
  {
   "cell_type": "code",
   "execution_count": 10,
   "metadata": {},
   "outputs": [
    {
     "name": "stdout",
     "output_type": "stream",
     "text": [
      "Spectral clustering\n",
      "Silhouette Score: 0.37002714205416143\n",
      "Davies-Bouldin Index: 0.38052155617568\n",
      "Rand Score: 0.00021143141355027764\n",
      "Calinski and Harabasz Score: 17.904196239696834\n"
     ]
    },
    {
     "name": "stderr",
     "output_type": "stream",
     "text": [
      "c:\\Users\\elijah\\AppData\\Local\\Programs\\Python\\Python312\\Lib\\site-packages\\sklearn\\manifold\\_spectral_embedding.py:392: UserWarning: Exited at iteration 663 with accuracies \n",
      "[1.75441817e-13 2.93929128e-06 1.14962012e-05 4.80276754e-06]\n",
      "not reaching the requested tolerance 6.586313247680664e-06.\n",
      "Use iteration 662 instead with accuracy \n",
      "4.7059618646132595e-06.\n",
      "\n",
      "  _, diffusion_map = lobpcg(\n",
      "c:\\Users\\elijah\\AppData\\Local\\Programs\\Python\\Python312\\Lib\\site-packages\\sklearn\\manifold\\_spectral_embedding.py:392: UserWarning: Exited postprocessing with accuracies \n",
      "[7.67404325e-14 3.03374261e-06 4.78135198e-06 1.10087406e-05]\n",
      "not reaching the requested tolerance 6.586313247680664e-06.\n",
      "  _, diffusion_map = lobpcg(\n"
     ]
    }
   ],
   "source": [
    "# Using spectral clustering and calinski and harabasz score\n",
    "from sklearn.cluster import SpectralClustering\n",
    "\n",
    "# Spectral clustering\n",
    "spectral_clustering = SpectralClustering(n_clusters = 3,random_state = 20).fit(diabetes_df)\n",
    "\n",
    "# Getting labels\n",
    "spectral_labels = spectral_clustering.labels_\n",
    "\n",
    "# Calculating silhouette score\n",
    "silhouette_avg4 = silhouette_score(diabetes_df, spectral_labels)\n",
    "\n",
    "# Calculating DBI\n",
    "dbi_score4 = davies_bouldin_score(diabetes_df, spectral_labels)\n",
    "\n",
    "# Calcualting rand score\n",
    "rand_score4 = adjusted_rand_score(true_labels, spectral_labels)\n",
    "\n",
    "# Calculating calinksi and harabasz score\n",
    "ch_score4 = calinski_harabasz_score(diabetes_df, spectral_labels)\n",
    "\n",
    "print(\"Spectral clustering\")\n",
    "print(\"Silhouette Score:\", silhouette_avg4)\n",
    "print(\"Davies-Bouldin Index:\", dbi_score4)\n",
    "print(\"Rand Score:\", rand_score4)\n",
    "print(\"Calinski and Harabasz Score:\", ch_score4)"
   ]
  },
  {
   "cell_type": "markdown",
   "metadata": {},
   "source": [
    "Silhouette Score from best to worst\n",
    "Kmeans > Mean shift > Agglomerative clustering > Spectral clustering\n",
    "\n",
    "DBI from best to worst\n",
    "Spectral clustering > Agglomerative clustering > Kmeans > Mean shift\n",
    "\n",
    "Rand score from best to worst\n",
    "Mean shift > Kmeans > Spectral clustering > Agglomerative clustering\n",
    "\n",
    "Calinski and Harabasz score from best to worst\n",
    "Kmeans > Mean shift > Agglomerative clustering > Spectral clustering\n"
   ]
  }
 ],
 "metadata": {
  "kernelspec": {
   "display_name": "Python 3",
   "language": "python",
   "name": "python3"
  },
  "language_info": {
   "codemirror_mode": {
    "name": "ipython",
    "version": 3
   },
   "file_extension": ".py",
   "mimetype": "text/x-python",
   "name": "python",
   "nbconvert_exporter": "python",
   "pygments_lexer": "ipython3",
   "version": "3.12.0"
  }
 },
 "nbformat": 4,
 "nbformat_minor": 2
}
